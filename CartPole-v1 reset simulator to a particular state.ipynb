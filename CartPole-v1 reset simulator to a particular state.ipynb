{
 "cells": [
  {
   "cell_type": "code",
   "execution_count": 110,
   "metadata": {},
   "outputs": [
    {
     "name": "stdout",
     "output_type": "stream",
     "text": [
      "Finished Testing\n"
     ]
    }
   ],
   "source": [
    "import numpy as np\n",
    "import gym\n",
    "\n",
    "env = gym.make('CartPole-v1')\n",
    "\n",
    "ob = env.reset()\n",
    "ob_dtype = ob.dtype\n",
    "ob_len = len(ob)\n",
    "\n",
    "ob_as_byte = ob.tobytes()\n",
    "\n",
    "# Save data to test whether restoring state works\n",
    "test_stats = {}\n",
    "\n",
    "# Sampling data from the environment\n",
    "for i in range(100000):\n",
    "\n",
    "    assert ob_as_byte not in test_stats\n",
    "\n",
    "    act = env.action_space.sample()\n",
    "\n",
    "    ob, rew, done, _ = env.step(act)\n",
    "\n",
    "    test_stats[ob_as_byte] = [act, ob, rew, done]\n",
    "\n",
    "    if done:\n",
    "        ob = env.reset()\n",
    "\n",
    "    ob_as_byte = ob.tobytes()\n",
    "\n",
    "# TEST\n",
    "# We test that given the same observation (state), taking the same action\n",
    "# will bring us to the same next observation, reward and done info\n",
    "for ob_as_byte in test_stats.keys():\n",
    "\n",
    "    act, exp_ob, exp_rew, exp_done = test_stats[ob_as_byte]  # exp stands for expected\n",
    "\n",
    "    # We reset the environments so that done is not carried over from the last for loop\n",
    "    env.reset()\n",
    "\n",
    "    # Restore the env state\n",
    "    # In CartPole, the observation and state are the same thing\n",
    "    # https://github.com/openai/gym/blob/49cd48020f6760630a7317cb3529a22de6f12f2e/gym/envs/classic_control/cartpole.py#L130\n",
    "    env.env.state = np.frombuffer(ob_as_byte, dtype=ob_dtype, count=ob_len)\n",
    "\n",
    "    ob, rew, done, _ = env.step(act)\n",
    "\n",
    "    assert (ob == exp_ob).all(), (ob, exp_ob)\n",
    "    assert rew == exp_rew, (rew, exp_rew)\n",
    "    assert done == exp_done, (done, exp_done)\n",
    "\n",
    "print('Finished Testing')"
   ]
  }
 ],
 "metadata": {
  "kernelspec": {
   "display_name": "Python 3",
   "language": "python",
   "name": "python3"
  },
  "language_info": {
   "codemirror_mode": {
    "name": "ipython",
    "version": 3
   },
   "file_extension": ".py",
   "mimetype": "text/x-python",
   "name": "python",
   "nbconvert_exporter": "python",
   "pygments_lexer": "ipython3",
   "version": "3.6.6"
  }
 },
 "nbformat": 4,
 "nbformat_minor": 2
}
