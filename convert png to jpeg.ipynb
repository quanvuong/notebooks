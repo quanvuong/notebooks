{
 "cells": [
  {
   "cell_type": "code",
   "execution_count": 29,
   "metadata": {},
   "outputs": [
    {
     "data": {
      "text/plain": [
       "'chinese.png'"
      ]
     },
     "execution_count": 29,
     "metadata": {},
     "output_type": "execute_result"
    }
   ],
   "source": [
    "# This script was tested with Python 3.6.7\n",
    "# Obtain an image of chinese characters and save it locally \n",
    "\n",
    "import urllib.request\n",
    "\n",
    "pic_name, _ = urllib.request.urlretrieve(\"https://raw.githubusercontent.com/quanvuong/Image_Analysis_Papentine_Symmetry/master/Chinese%20Characters/Chinese%20Compressed/Layer%2010.png\", \"chinese.png\")\n",
    "\n",
    "pic_name"
   ]
  },
  {
   "cell_type": "code",
   "execution_count": 25,
   "metadata": {},
   "outputs": [],
   "source": [
    "from PIL import Image\n",
    "\n",
    "im = Image.open(pic_name)\n",
    "rgb_im = im.convert('RGB')  # Need to convert to RGB to save as JPEG\n",
    "\n",
    "# rgb_im.show() # Uncomment to view image\n",
    "\n",
    "rgb_im.save(\"chinese.jpg\", \"JPEG\")"
   ]
  },
  {
   "cell_type": "code",
   "execution_count": 26,
   "metadata": {},
   "outputs": [
    {
     "name": "stdout",
     "output_type": "stream",
     "text": [
      "7165\n"
     ]
    }
   ],
   "source": [
    "import os\n",
    "\n",
    "# st_size returns size in bytes\n",
    "print(os.stat('chinese.jpg').st_size)"
   ]
  }
 ],
 "metadata": {
  "kernelspec": {
   "display_name": "Python 3",
   "language": "python",
   "name": "python3"
  },
  "language_info": {
   "codemirror_mode": {
    "name": "ipython",
    "version": 3
   },
   "file_extension": ".py",
   "mimetype": "text/x-python",
   "name": "python",
   "nbconvert_exporter": "python",
   "pygments_lexer": "ipython3",
   "version": "3.6.7"
  }
 },
 "nbformat": 4,
 "nbformat_minor": 2
}
