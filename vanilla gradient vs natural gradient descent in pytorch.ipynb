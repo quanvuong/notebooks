{
 "cells": [
  {
   "cell_type": "code",
   "execution_count": 13,
   "metadata": {},
   "outputs": [
    {
     "data": {
      "text/plain": [
       "<matplotlib.legend.Legend at 0xa3307ec18>"
      ]
     },
     "execution_count": 13,
     "metadata": {},
     "output_type": "execute_result"
    },
    {
     "data": {
      "image/png": "[encoded data removed]",
      "text/plain": [
       "<Figure size 432x288 with 1 Axes>"
      ]
     },
     "metadata": {
      "needs_background": "light"
     },
     "output_type": "display_data"
    }
   ],
   "source": [
    "%matplotlib inline\n",
    "import matplotlib.pyplot as plt\n",
    "import numpy as np\n",
    "import torch\n",
    "import torch.nn.functional as F\n",
    "import torch.nn as nn\n",
    "import pickle\n",
    "from sklearn.utils import shuffle\n",
    "\n",
    "np.random.seed(0)\n",
    "\n",
    "# Artificially generate the data\n",
    "# data generation code is taken from \n",
    "# https://gist.github.com/wiseodd/1c9f5006310f5ee03bd4682b4c03020a\n",
    "X0 = np.random.randn(100, 2) - 1  # these have gold label of 0\n",
    "X1 = np.random.randn(100, 2) + 1  # these have gold label of 1\n",
    "X = np.vstack([X0, X1])\n",
    "t = np.vstack([np.zeros([100, 1]), np.ones([100, 1])])\n",
    "\n",
    "# W is the parameter we learn to classify the data point\n",
    "init_W = np.random.randn(2, 1) * 0.01\n",
    "\n",
    "# Visualize the points\n",
    "plt.scatter(X0[:,0], X0[:,1], label='Class 0')\n",
    "plt.scatter(X1[:,0], X1[:,1], label='Class 1')\n",
    "plt.legend()"
   ]
  },
  {
   "cell_type": "code",
   "execution_count": 14,
   "metadata": {},
   "outputs": [],
   "source": [
    "# Shuffle data and perform train/test split\n",
    "\n",
    "X, t = shuffle(X, t)\n",
    "\n",
    "X_train, X_test = X[:150], X[:50]\n",
    "t_train, t_test = t[:150], t[:50]\n",
    "\n",
    "X_train_tensor = torch.tensor(X_train, dtype=torch.float64)\n",
    "t_train_tensor = torch.tensor(t_train, dtype=torch.float64)\n",
    "\n",
    "X_test_tensor = torch.tensor(X_test, dtype=torch.float64)\n",
    "t_test_tensor = torch.tensor(t_test, dtype=torch.float64)\n",
    "\n",
    "vg_W = torch.tensor(init_W, dtype=torch.float64, requires_grad=True) # vanilla gradient W\n",
    "ng_W = torch.tensor(init_W, dtype=torch.float64, requires_grad=True) # natural gradient W"
   ]
  },
  {
   "cell_type": "code",
   "execution_count": 15,
   "metadata": {},
   "outputs": [
    {
     "name": "stdout",
     "output_type": "stream",
     "text": [
      "0.7010505889337083\n",
      "0.6594395898323931\n",
      "0.6231622674449944\n",
      "0.5914839865349651\n",
      "0.5637444219028646\n",
      "Test set loss: 0.5481435452629838\n"
     ]
    }
   ],
   "source": [
    "# Update W with vanilla gradient descent\n",
    "\n",
    "lr = 0.1\n",
    "\n",
    "def ng_update(x, t_train, W):\n",
    "\n",
    "    pred = torch.sigmoid(torch.matmul(x, W))\n",
    "    l = F.binary_cross_entropy(pred, t_train)\n",
    "\n",
    "    W.grad = None\n",
    "\n",
    "    l.backward()\n",
    "\n",
    "    return lr * W.grad.data, l.item()\n",
    "\n",
    "for iter in range(5):\n",
    "    vg_W_update, vg_loss = ng_update(X_train_tensor, t_train_tensor, vg_W)\n",
    "\n",
    "    vg_W.data -= vg_W_update\n",
    "\n",
    "    print(vg_loss)\n",
    "    \n",
    "print(f'Test set loss: {F.binary_cross_entropy(torch.sigmoid(torch.matmul(X_test_tensor, vg_W)), t_test_tensor)}')"
   ]
  },
  {
   "cell_type": "code",
   "execution_count": 16,
   "metadata": {},
   "outputs": [
    {
     "name": "stdout",
     "output_type": "stream",
     "text": [
      "0.7010505889337083\n",
      "0.5535321048592613\n",
      "0.40743645079520563\n",
      "0.3018352636491892\n",
      "0.26607391494182586\n",
      "Test set loss: 0.25924951791129397\n"
     ]
    }
   ],
   "source": [
    "# Update W with natural gradient descent\n",
    "\n",
    "lr = 0.1\n",
    "\n",
    "def ng_update(x, t_train, W):\n",
    "\n",
    "    probs = torch.sigmoid(torch.matmul(x, W))\n",
    "\n",
    "    logps = []\n",
    "\n",
    "    for i, p in enumerate(probs):\n",
    "        if t_train[i] == 1:\n",
    "            logps.append(torch.log(p))\n",
    "        else:\n",
    "            logps.append(torch.log(1 - p))\n",
    "\n",
    "    grads = []\n",
    "\n",
    "    for i in range(len(logps)):\n",
    "        W.grad = None\n",
    "        logps[i].backward(retain_graph=True)\n",
    "\n",
    "        grads.append(W.grad.clone().view(-1))\n",
    "\n",
    "    grads = torch.stack(grads)\n",
    "\n",
    "    FIM = np.cov(grads.t())\n",
    "\n",
    "    FIM_inv = np.linalg.inv(FIM)\n",
    "\n",
    "    FIM_inv = torch.tensor(FIM_inv, dtype=torch.float64)\n",
    "\n",
    "    pred = torch.sigmoid(torch.matmul(x, W))\n",
    "    l = F.binary_cross_entropy(pred, t_train)\n",
    "\n",
    "    W.grad = None\n",
    "\n",
    "    l.backward()\n",
    "\n",
    "    return lr * torch.matmul(FIM_inv, W.grad.data), l.item()\n",
    "\n",
    "for iter in range(5):\n",
    "    ng_W_update, pt_loss = ng_update(X_train_tensor, t_train_tensor, ng_W)\n",
    "\n",
    "    ng_W.data -= ng_W_update\n",
    "\n",
    "    print(pt_loss)\n",
    "\n",
    "print(f'Test set loss: {F.binary_cross_entropy(torch.sigmoid(torch.matmul(X_test_tensor, ng_W)), t_test_tensor)}')"
   ]
  }
 ],
 "metadata": {
  "kernelspec": {
   "display_name": "Python 3",
   "language": "python",
   "name": "python3"
  },
  "language_info": {
   "codemirror_mode": {
    "name": "ipython",
    "version": 3
   },
   "file_extension": ".py",
   "mimetype": "text/x-python",
   "name": "python",
   "nbconvert_exporter": "python",
   "pygments_lexer": "ipython3",
   "version": "3.6.6"
  }
 },
 "nbformat": 4,
 "nbformat_minor": 2
}
